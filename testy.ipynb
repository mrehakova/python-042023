{
 "cells": [
  {
   "cell_type": "code",
   "execution_count": 16,
   "metadata": {},
   "outputs": [],
   "source": [
    "import pandas as pd\n",
    "from scipy import stats\n",
    "import matplotlib.pyplot as plt\n",
    "import numpy as np"
   ]
  },
  {
   "attachments": {},
   "cell_type": "markdown",
   "metadata": {},
   "source": [
    "## Inflace"
   ]
  },
  {
   "cell_type": "code",
   "execution_count": 3,
   "metadata": {},
   "outputs": [
    {
     "data": {
      "text/html": [
       "<div>\n",
       "<style scoped>\n",
       "    .dataframe tbody tr th:only-of-type {\n",
       "        vertical-align: middle;\n",
       "    }\n",
       "\n",
       "    .dataframe tbody tr th {\n",
       "        vertical-align: top;\n",
       "    }\n",
       "\n",
       "    .dataframe thead th {\n",
       "        text-align: right;\n",
       "    }\n",
       "</style>\n",
       "<table border=\"1\" class=\"dataframe\">\n",
       "  <thead>\n",
       "    <tr style=\"text-align: right;\">\n",
       "      <th></th>\n",
       "      <th>Country</th>\n",
       "      <th>98</th>\n",
       "      <th>97</th>\n",
       "    </tr>\n",
       "  </thead>\n",
       "  <tbody>\n",
       "    <tr>\n",
       "      <th>0</th>\n",
       "      <td>BE</td>\n",
       "      <td>31</td>\n",
       "      <td>34</td>\n",
       "    </tr>\n",
       "    <tr>\n",
       "      <th>1</th>\n",
       "      <td>BG</td>\n",
       "      <td>22</td>\n",
       "      <td>31</td>\n",
       "    </tr>\n",
       "    <tr>\n",
       "      <th>2</th>\n",
       "      <td>CZ</td>\n",
       "      <td>34</td>\n",
       "      <td>42</td>\n",
       "    </tr>\n",
       "    <tr>\n",
       "      <th>3</th>\n",
       "      <td>DK</td>\n",
       "      <td>28</td>\n",
       "      <td>33</td>\n",
       "    </tr>\n",
       "    <tr>\n",
       "      <th>4</th>\n",
       "      <td>D-W</td>\n",
       "      <td>33</td>\n",
       "      <td>40</td>\n",
       "    </tr>\n",
       "  </tbody>\n",
       "</table>\n",
       "</div>"
      ],
      "text/plain": [
       "  Country  98  97\n",
       "0      BE  31  34\n",
       "1      BG  22  31\n",
       "2      CZ  34  42\n",
       "3      DK  28  33\n",
       "4     D-W  33  40"
      ]
     },
     "execution_count": 3,
     "metadata": {},
     "output_type": "execute_result"
    }
   ],
   "source": [
    "data_inflace=pd.read_csv('ukol_02_a.csv')\n",
    "data_inflace.head()"
   ]
  },
  {
   "cell_type": "code",
   "execution_count": 4,
   "metadata": {},
   "outputs": [
    {
     "data": {
      "text/html": [
       "<div>\n",
       "<style scoped>\n",
       "    .dataframe tbody tr th:only-of-type {\n",
       "        vertical-align: middle;\n",
       "    }\n",
       "\n",
       "    .dataframe tbody tr th {\n",
       "        vertical-align: top;\n",
       "    }\n",
       "\n",
       "    .dataframe thead th {\n",
       "        text-align: right;\n",
       "    }\n",
       "</style>\n",
       "<table border=\"1\" class=\"dataframe\">\n",
       "  <thead>\n",
       "    <tr style=\"text-align: right;\">\n",
       "      <th></th>\n",
       "      <th>Country</th>\n",
       "      <th>zima_22/23</th>\n",
       "      <th>leto_22</th>\n",
       "    </tr>\n",
       "  </thead>\n",
       "  <tbody>\n",
       "    <tr>\n",
       "      <th>0</th>\n",
       "      <td>BE</td>\n",
       "      <td>31</td>\n",
       "      <td>34</td>\n",
       "    </tr>\n",
       "    <tr>\n",
       "      <th>1</th>\n",
       "      <td>BG</td>\n",
       "      <td>22</td>\n",
       "      <td>31</td>\n",
       "    </tr>\n",
       "    <tr>\n",
       "      <th>2</th>\n",
       "      <td>CZ</td>\n",
       "      <td>34</td>\n",
       "      <td>42</td>\n",
       "    </tr>\n",
       "    <tr>\n",
       "      <th>3</th>\n",
       "      <td>DK</td>\n",
       "      <td>28</td>\n",
       "      <td>33</td>\n",
       "    </tr>\n",
       "    <tr>\n",
       "      <th>4</th>\n",
       "      <td>D-W</td>\n",
       "      <td>33</td>\n",
       "      <td>40</td>\n",
       "    </tr>\n",
       "    <tr>\n",
       "      <th>5</th>\n",
       "      <td>DE</td>\n",
       "      <td>33</td>\n",
       "      <td>40</td>\n",
       "    </tr>\n",
       "    <tr>\n",
       "      <th>6</th>\n",
       "      <td>D-E</td>\n",
       "      <td>32</td>\n",
       "      <td>40</td>\n",
       "    </tr>\n",
       "    <tr>\n",
       "      <th>7</th>\n",
       "      <td>EE</td>\n",
       "      <td>23</td>\n",
       "      <td>29</td>\n",
       "    </tr>\n",
       "    <tr>\n",
       "      <th>8</th>\n",
       "      <td>IE</td>\n",
       "      <td>36</td>\n",
       "      <td>47</td>\n",
       "    </tr>\n",
       "    <tr>\n",
       "      <th>9</th>\n",
       "      <td>EL</td>\n",
       "      <td>27</td>\n",
       "      <td>23</td>\n",
       "    </tr>\n",
       "    <tr>\n",
       "      <th>10</th>\n",
       "      <td>ES</td>\n",
       "      <td>33</td>\n",
       "      <td>35</td>\n",
       "    </tr>\n",
       "    <tr>\n",
       "      <th>11</th>\n",
       "      <td>FR</td>\n",
       "      <td>31</td>\n",
       "      <td>34</td>\n",
       "    </tr>\n",
       "    <tr>\n",
       "      <th>12</th>\n",
       "      <td>HR</td>\n",
       "      <td>36</td>\n",
       "      <td>40</td>\n",
       "    </tr>\n",
       "    <tr>\n",
       "      <th>13</th>\n",
       "      <td>IT</td>\n",
       "      <td>37</td>\n",
       "      <td>33</td>\n",
       "    </tr>\n",
       "    <tr>\n",
       "      <th>14</th>\n",
       "      <td>CY</td>\n",
       "      <td>30</td>\n",
       "      <td>22</td>\n",
       "    </tr>\n",
       "    <tr>\n",
       "      <th>15</th>\n",
       "      <td>LV</td>\n",
       "      <td>32</td>\n",
       "      <td>42</td>\n",
       "    </tr>\n",
       "    <tr>\n",
       "      <th>16</th>\n",
       "      <td>LT</td>\n",
       "      <td>24</td>\n",
       "      <td>36</td>\n",
       "    </tr>\n",
       "    <tr>\n",
       "      <th>17</th>\n",
       "      <td>LU</td>\n",
       "      <td>37</td>\n",
       "      <td>37</td>\n",
       "    </tr>\n",
       "    <tr>\n",
       "      <th>18</th>\n",
       "      <td>HU</td>\n",
       "      <td>32</td>\n",
       "      <td>33</td>\n",
       "    </tr>\n",
       "    <tr>\n",
       "      <th>19</th>\n",
       "      <td>MT</td>\n",
       "      <td>32</td>\n",
       "      <td>32</td>\n",
       "    </tr>\n",
       "    <tr>\n",
       "      <th>20</th>\n",
       "      <td>NL</td>\n",
       "      <td>19</td>\n",
       "      <td>26</td>\n",
       "    </tr>\n",
       "    <tr>\n",
       "      <th>21</th>\n",
       "      <td>AT</td>\n",
       "      <td>31</td>\n",
       "      <td>36</td>\n",
       "    </tr>\n",
       "    <tr>\n",
       "      <th>22</th>\n",
       "      <td>PL</td>\n",
       "      <td>33</td>\n",
       "      <td>36</td>\n",
       "    </tr>\n",
       "    <tr>\n",
       "      <th>23</th>\n",
       "      <td>PT</td>\n",
       "      <td>26</td>\n",
       "      <td>22</td>\n",
       "    </tr>\n",
       "    <tr>\n",
       "      <th>24</th>\n",
       "      <td>RO</td>\n",
       "      <td>30</td>\n",
       "      <td>24</td>\n",
       "    </tr>\n",
       "    <tr>\n",
       "      <th>25</th>\n",
       "      <td>SI</td>\n",
       "      <td>27</td>\n",
       "      <td>42</td>\n",
       "    </tr>\n",
       "    <tr>\n",
       "      <th>26</th>\n",
       "      <td>SK</td>\n",
       "      <td>31</td>\n",
       "      <td>46</td>\n",
       "    </tr>\n",
       "    <tr>\n",
       "      <th>27</th>\n",
       "      <td>FI</td>\n",
       "      <td>28</td>\n",
       "      <td>33</td>\n",
       "    </tr>\n",
       "    <tr>\n",
       "      <th>28</th>\n",
       "      <td>SE</td>\n",
       "      <td>19</td>\n",
       "      <td>23</td>\n",
       "    </tr>\n",
       "    <tr>\n",
       "      <th>29</th>\n",
       "      <td>TR</td>\n",
       "      <td>27</td>\n",
       "      <td>34</td>\n",
       "    </tr>\n",
       "    <tr>\n",
       "      <th>30</th>\n",
       "      <td>MK</td>\n",
       "      <td>27</td>\n",
       "      <td>30</td>\n",
       "    </tr>\n",
       "    <tr>\n",
       "      <th>31</th>\n",
       "      <td>ME</td>\n",
       "      <td>25</td>\n",
       "      <td>30</td>\n",
       "    </tr>\n",
       "    <tr>\n",
       "      <th>32</th>\n",
       "      <td>RS</td>\n",
       "      <td>25</td>\n",
       "      <td>44</td>\n",
       "    </tr>\n",
       "    <tr>\n",
       "      <th>33</th>\n",
       "      <td>AL</td>\n",
       "      <td>23</td>\n",
       "      <td>26</td>\n",
       "    </tr>\n",
       "    <tr>\n",
       "      <th>34</th>\n",
       "      <td>MD</td>\n",
       "      <td>29</td>\n",
       "      <td>20</td>\n",
       "    </tr>\n",
       "    <tr>\n",
       "      <th>35</th>\n",
       "      <td>UK</td>\n",
       "      <td>28</td>\n",
       "      <td>37</td>\n",
       "    </tr>\n",
       "    <tr>\n",
       "      <th>36</th>\n",
       "      <td>CH</td>\n",
       "      <td>34</td>\n",
       "      <td>29</td>\n",
       "    </tr>\n",
       "    <tr>\n",
       "      <th>37</th>\n",
       "      <td>NO</td>\n",
       "      <td>30</td>\n",
       "      <td>35</td>\n",
       "    </tr>\n",
       "    <tr>\n",
       "      <th>38</th>\n",
       "      <td>BA</td>\n",
       "      <td>36</td>\n",
       "      <td>28</td>\n",
       "    </tr>\n",
       "    <tr>\n",
       "      <th>39</th>\n",
       "      <td>XK</td>\n",
       "      <td>42</td>\n",
       "      <td>45</td>\n",
       "    </tr>\n",
       "    <tr>\n",
       "      <th>40</th>\n",
       "      <td>CY(TCC)</td>\n",
       "      <td>20</td>\n",
       "      <td>22</td>\n",
       "    </tr>\n",
       "  </tbody>\n",
       "</table>\n",
       "</div>"
      ],
      "text/plain": [
       "    Country  zima_22/23  leto_22\n",
       "0        BE          31       34\n",
       "1        BG          22       31\n",
       "2        CZ          34       42\n",
       "3        DK          28       33\n",
       "4       D-W          33       40\n",
       "5        DE          33       40\n",
       "6       D-E          32       40\n",
       "7        EE          23       29\n",
       "8        IE          36       47\n",
       "9        EL          27       23\n",
       "10       ES          33       35\n",
       "11       FR          31       34\n",
       "12       HR          36       40\n",
       "13       IT          37       33\n",
       "14       CY          30       22\n",
       "15       LV          32       42\n",
       "16       LT          24       36\n",
       "17       LU          37       37\n",
       "18       HU          32       33\n",
       "19       MT          32       32\n",
       "20       NL          19       26\n",
       "21       AT          31       36\n",
       "22       PL          33       36\n",
       "23       PT          26       22\n",
       "24       RO          30       24\n",
       "25       SI          27       42\n",
       "26       SK          31       46\n",
       "27       FI          28       33\n",
       "28       SE          19       23\n",
       "29       TR          27       34\n",
       "30       MK          27       30\n",
       "31       ME          25       30\n",
       "32       RS          25       44\n",
       "33       AL          23       26\n",
       "34       MD          29       20\n",
       "35       UK          28       37\n",
       "36       CH          34       29\n",
       "37       NO          30       35\n",
       "38       BA          36       28\n",
       "39       XK          42       45\n",
       "40  CY(TCC)          20       22"
      ]
     },
     "execution_count": 4,
     "metadata": {},
     "output_type": "execute_result"
    }
   ],
   "source": [
    "data_inflace=data_inflace.rename(columns={'98':'zima_22/23','97':'leto_22'})\n",
    "data_inflace"
   ]
  },
  {
   "attachments": {},
   "cell_type": "markdown",
   "metadata": {},
   "source": [
    "Keďže budeme porovnávať percento ľudí, ktorí v jedno obdobie v daných krajinách uviedli, že inflace je jeden z ich najväčších problémov s percentom ľudí, ktorí v druhom období v tých istých krajinách uviedli, že inflace je jeden z ich najväčších problémov, mohli by sme na porovnanie, či sa toto percento statisticky významne zmenilo, párový t-test. Tento ale predpokladá normalitu rozdelení, ktorú najprv musíme otestovať."
   ]
  },
  {
   "cell_type": "code",
   "execution_count": 5,
   "metadata": {},
   "outputs": [
    {
     "data": {
      "text/plain": [
       "'shapiro_leto vysledok ShapiroResult(statistic=0.9694532752037048, pvalue=0.33090925216674805)     shapiro_zima vysledok ShapiroResult(statistic=0.9803104996681213, pvalue=0.687289297580719)'"
      ]
     },
     "execution_count": 5,
     "metadata": {},
     "output_type": "execute_result"
    }
   ],
   "source": [
    "shapiro_leto = stats.shapiro(data_inflace['leto_22'])\n",
    " \n",
    "shapiro_zima = stats.shapiro(data_inflace['zima_22/23'])\n",
    "\n",
    "f\"shapiro_leto vysledok {shapiro_leto}     \" \\\n",
    "f\"shapiro_zima vysledok {shapiro_zima}\""
   ]
  },
  {
   "attachments": {},
   "cell_type": "markdown",
   "metadata": {},
   "source": [
    "Keďže nulová hypotéza v Shapiro-Wilk teste tvrdí, že dáta patria do normálneho rozdelenia, vzhľadom k p-hodnote oboch stĺpcov môžeme dôjsť k záveru, že pozorovania v oboch obdobiach vychádzajú z normálneho rozdelenia. Ani u letných ani u zimných pozorovaní teda nezamietame nulovú hypotézu o tom, že výber pochádza z normálneho rozdelenia. U letných pozorovaní je pravdepodobnosť, že zamietneme nulovú hypotézu a tá bude platiť (chyba I. druhu) 33%, u zimných pozorovaní je pravdepodobnosť tejto chyby pri zamietnutí nulovej hypotézu dokonca 69%. Dolu v grafe hustoty pravdepodobnosti aj vidíme, že zimné pozorovania majú tvar ešte bližší normálnemu rozdeleniu než letné."
   ]
  },
  {
   "cell_type": "code",
   "execution_count": 6,
   "metadata": {},
   "outputs": [
    {
     "data": {
      "text/plain": [
       "<matplotlib.legend.Legend at 0x235a2497a30>"
      ]
     },
     "execution_count": 6,
     "metadata": {},
     "output_type": "execute_result"
    },
    {
     "data": {
      "image/png": "[encoded data removed]",
      "text/plain": [
       "<Figure size 640x480 with 1 Axes>"
      ]
     },
     "metadata": {},
     "output_type": "display_data"
    }
   ],
   "source": [
    "line_1=data_inflace['leto_22'].plot.kde()\n",
    "line_2=data_inflace['zima_22/23'].plot.kde()\n",
    "plt.legend()\n"
   ]
  },
  {
   "cell_type": "code",
   "execution_count": 7,
   "metadata": {},
   "outputs": [
    {
     "data": {
      "text/plain": [
       "'normaltest_leto vysledok NormaltestResult(statistic=2.045959725455584, pvalue=0.3595220161281381)     normaltest_zima vysledok NormaltestResult(statistic=0.19683247870207005, pvalue=0.906271599332527)'"
      ]
     },
     "execution_count": 7,
     "metadata": {},
     "output_type": "execute_result"
    }
   ],
   "source": [
    "normaltest_leto = stats.normaltest(data_inflace['leto_22'])\n",
    "normaltest_zima = stats.normaltest(data_inflace['zima_22/23'])\n",
    "f\"normaltest_leto vysledok {normaltest_leto}     \" \\\n",
    "f\"normaltest_zima vysledok {normaltest_zima}\""
   ]
  },
  {
   "attachments": {},
   "cell_type": "markdown",
   "metadata": {},
   "source": [
    "Vyššie uvedený test potvrdzuje výsledky Shapiro-Wilkova testu normality s ešte istejším záverom o tom, že výbery pochádzajú z normálneho rozdelenia."
   ]
  },
  {
   "attachments": {},
   "cell_type": "markdown",
   "metadata": {},
   "source": [
    "Keďže sme nezamietli nulovú hypotézu, že oba výbery pochádzajú z normálneho rozdelenia, môžeme vykonať párový t-test."
   ]
  },
  {
   "cell_type": "code",
   "execution_count": 8,
   "metadata": {},
   "outputs": [
    {
     "data": {
      "text/plain": [
       "TtestResult(statistic=3.868878598419143, pvalue=0.0003938172257904746, df=40)"
      ]
     },
     "execution_count": 8,
     "metadata": {},
     "output_type": "execute_result"
    }
   ],
   "source": [
    "\n",
    "parovy_t_test = stats.ttest_rel(data_inflace['leto_22'], data_inflace['zima_22/23'])\n",
    "parovy_t_test"
   ]
  },
  {
   "attachments": {},
   "cell_type": "markdown",
   "metadata": {},
   "source": [
    "Nulová hypotéza v párovom t-teste tvrdí, že dva závislé výbery majú rovnaký priemer. Vzhľadom k p hodnote hlboko pod akoukoľvek standardnou hladinou významnosti môžeme túto nulovú hypotézu zamietnuť s 0,04% pravdepodobnosťou, že zamietnutím spôsobíme chybu I.druhu. Dochádzame teda k záveru, že percento ľudí, ktorí považovali infláciu za jeden z ich najväčších problémov bolo iné v lete ako v nasledujúcej zime."
   ]
  },
  {
   "cell_type": "code",
   "execution_count": 9,
   "metadata": {},
   "outputs": [
    {
     "data": {
      "text/plain": [
       "TtestResult(statistic=3.868878598419143, pvalue=0.0001969086128952373, df=40)"
      ]
     },
     "execution_count": 9,
     "metadata": {},
     "output_type": "execute_result"
    }
   ],
   "source": [
    "parovy_t_test_jednostranny = stats.ttest_rel(data_inflace['leto_22'], data_inflace['zima_22/23'],alternative=\"greater\")\n",
    "parovy_t_test_jednostranny"
   ]
  },
  {
   "attachments": {},
   "cell_type": "markdown",
   "metadata": {},
   "source": [
    "Pri jednostrannom teste, kde alternatívnou hypotézou je, že priemer rozdelenia z prvého výberu je väčší ako priemer rozdelenia z druhého výberu, môžeme zamietnuť nulovú hypotézu, ktorá  tvrdí, že priemer prvého výberu je rovný priemeru z druhého výberu. V lete 2022 bolo teda štatisticky významne väčšie percento ľudí, ktorí v v krajinách Európy považovali infláciu za jeden z ich najväčších problémov. V prípade, že by sme jednostrannú hypotézu definovali opačne, teda, že v lete ľudí trápila inflácia menej ako v zime, neboli by sme schopní zamietnuť nulovú hypotézu o rovných priemeroch a takýto test by nám neumožnil vziať do úvahy možnosť, že v lete ľudí trápila inflácia naopak viac."
   ]
  },
  {
   "attachments": {},
   "cell_type": "markdown",
   "metadata": {},
   "source": [
    "## Dôvera v štát a EU"
   ]
  },
  {
   "cell_type": "code",
   "execution_count": 10,
   "metadata": {},
   "outputs": [
    {
     "data": {
      "text/html": [
       "<div>\n",
       "<style scoped>\n",
       "    .dataframe tbody tr th:only-of-type {\n",
       "        vertical-align: middle;\n",
       "    }\n",
       "\n",
       "    .dataframe tbody tr th {\n",
       "        vertical-align: top;\n",
       "    }\n",
       "\n",
       "    .dataframe thead th {\n",
       "        text-align: right;\n",
       "    }\n",
       "</style>\n",
       "<table border=\"1\" class=\"dataframe\">\n",
       "  <thead>\n",
       "    <tr style=\"text-align: right;\">\n",
       "      <th></th>\n",
       "      <th>Country</th>\n",
       "      <th>National Government Trust</th>\n",
       "      <th>EU Trust</th>\n",
       "      <th>Country Name</th>\n",
       "      <th>Euro</th>\n",
       "    </tr>\n",
       "  </thead>\n",
       "  <tbody>\n",
       "    <tr>\n",
       "      <th>0</th>\n",
       "      <td>BE</td>\n",
       "      <td>40</td>\n",
       "      <td>55</td>\n",
       "      <td>Belgium</td>\n",
       "      <td>1</td>\n",
       "    </tr>\n",
       "    <tr>\n",
       "      <th>1</th>\n",
       "      <td>BG</td>\n",
       "      <td>19</td>\n",
       "      <td>49</td>\n",
       "      <td>Bulgaria</td>\n",
       "      <td>0</td>\n",
       "    </tr>\n",
       "    <tr>\n",
       "      <th>2</th>\n",
       "      <td>CZ</td>\n",
       "      <td>30</td>\n",
       "      <td>43</td>\n",
       "      <td>Czechia</td>\n",
       "      <td>0</td>\n",
       "    </tr>\n",
       "    <tr>\n",
       "      <th>3</th>\n",
       "      <td>DK</td>\n",
       "      <td>52</td>\n",
       "      <td>65</td>\n",
       "      <td>Denmark</td>\n",
       "      <td>0</td>\n",
       "    </tr>\n",
       "    <tr>\n",
       "      <th>4</th>\n",
       "      <td>DE</td>\n",
       "      <td>49</td>\n",
       "      <td>49</td>\n",
       "      <td>Germany</td>\n",
       "      <td>1</td>\n",
       "    </tr>\n",
       "  </tbody>\n",
       "</table>\n",
       "</div>"
      ],
      "text/plain": [
       "  Country  National Government Trust  EU Trust Country Name  Euro\n",
       "0      BE                         40        55      Belgium     1\n",
       "1      BG                         19        49     Bulgaria     0\n",
       "2      CZ                         30        43      Czechia     0\n",
       "3      DK                         52        65      Denmark     0\n",
       "4      DE                         49        49      Germany     1"
      ]
     },
     "execution_count": 10,
     "metadata": {},
     "output_type": "execute_result"
    }
   ],
   "source": [
    "data_dovera=pd.read_csv('ukol_02_b.csv')\n",
    "countries=pd.read_csv('countries.csv')\n",
    "data_dovera_eu=pd.merge(data_dovera,countries,on=['Country'])\n",
    "data_dovera_eu.head()"
   ]
  },
  {
   "attachments": {},
   "cell_type": "markdown",
   "metadata": {},
   "source": [
    "Najprv zhodnotíme, či výbery pochádzajú z normálneho rozdelenia. Použijeme testy ako v predchádzajúcej časti."
   ]
  },
  {
   "cell_type": "code",
   "execution_count": 11,
   "metadata": {},
   "outputs": [
    {
     "data": {
      "text/plain": [
       "'shapiro_NG_Trust vysledok ShapiroResult(statistic=0.9438267350196838, pvalue=0.15140558779239655)     shapiro_EU_Trust vysledok ShapiroResult(statistic=0.9735807180404663, pvalue=0.6981646418571472)'"
      ]
     },
     "execution_count": 11,
     "metadata": {},
     "output_type": "execute_result"
    }
   ],
   "source": [
    "shapiro_NG_Trust = stats.shapiro(data_dovera_eu['National Government Trust'])\n",
    " \n",
    "shapiro_EU_Trust = stats.shapiro(data_dovera_eu['EU Trust'])\n",
    "\n",
    "f\"shapiro_NG_Trust vysledok {shapiro_NG_Trust}     \" \\\n",
    "f\"shapiro_EU_Trust vysledok {shapiro_EU_Trust}\""
   ]
  },
  {
   "cell_type": "code",
   "execution_count": 12,
   "metadata": {},
   "outputs": [
    {
     "data": {
      "text/plain": [
       "0.9735807180404663"
      ]
     },
     "execution_count": 12,
     "metadata": {},
     "output_type": "execute_result"
    }
   ],
   "source": [
    "shapiro_EU_Trust.statistic #takto mozeme volat jednotlive statistiky a pvalue"
   ]
  },
  {
   "attachments": {},
   "cell_type": "markdown",
   "metadata": {},
   "source": [
    "Z vyššie uvedeného vyplýva, že na základe p hodnôt nemôžeme zamietnuť nulovú hypotézu, že výber pochádza z normálneho rozdelenia. Použijeme teda test založený na Pearsonovom korelačnom koeficiente."
   ]
  },
  {
   "cell_type": "code",
   "execution_count": 13,
   "metadata": {},
   "outputs": [
    {
     "data": {
      "text/plain": [
       "PearsonRResult(statistic=0.6097186340024556, pvalue=0.0007345896228823406)"
      ]
     },
     "execution_count": 13,
     "metadata": {},
     "output_type": "execute_result"
    }
   ],
   "source": [
    "Pearson_Trust = stats.pearsonr(data_dovera_eu['National Government Trust'], data_dovera_eu['EU Trust'])\n",
    "Pearson_Trust"
   ]
  },
  {
   "attachments": {},
   "cell_type": "markdown",
   "metadata": {},
   "source": [
    "Z vyššie uvedeného vyplýva, že existuje štatisticky významná závislosť medzi dôverou obyvateľov štátu v národnú vládu a dôverou v EU. Keďže chceme zistiť, aký má táto závislosť smer, skúsime ešte použiť test štatistickej lineárnej závislosti pomocou Pearsonovho koeficientu s jednostrannou alternatívnou hypotézou. V jednostrannej hypotéze v alternatíve predpokladáme, že v krajinách s veľkou dôverou v národné vlády je prítomná aj veľká dôvera v EU."
   ]
  },
  {
   "cell_type": "code",
   "execution_count": 14,
   "metadata": {},
   "outputs": [
    {
     "data": {
      "text/plain": [
       "PearsonRResult(statistic=0.6097186340024556, pvalue=0.0003672948114411703)"
      ]
     },
     "execution_count": 14,
     "metadata": {},
     "output_type": "execute_result"
    }
   ],
   "source": [
    "Pearson_Trust_jednostranna = stats.pearsonr(data_dovera_eu['National Government Trust'], data_dovera_eu['EU Trust'], alternative=\"greater\")\n",
    "Pearson_Trust_jednostranna"
   ]
  },
  {
   "attachments": {},
   "cell_type": "markdown",
   "metadata": {},
   "source": [
    "Vyššie sme ukázali, že môžeme zamietnuť nulovú hypotézu o neexistujúcej štatisticky významnej lineárnej závislosti v prospech alternatívnej hypotézy, že existuje pozitívna štatisticky významná lineárna závislosť medzi vyššie uvedenými dvomi premennými."
   ]
  },
  {
   "attachments": {},
   "cell_type": "markdown",
   "metadata": {},
   "source": [
    "## Dôvera v EU a euro"
   ]
  },
  {
   "cell_type": "code",
   "execution_count": 20,
   "metadata": {},
   "outputs": [],
   "source": [
    "data_eu_euro=data_dovera_eu[data_dovera_eu['Euro']==1]\n",
    "data_eu_bez_euro=data_dovera_eu[data_dovera_eu['Euro']==0]"
   ]
  },
  {
   "attachments": {},
   "cell_type": "markdown",
   "metadata": {},
   "source": [
    "Na  základe vyššie uvedených testov predpokladáme, že dáta majú normálne rozdelenie. Keďže ide o porovnávanie priemeru v dvoch súboroch, ktoré nie sú párové, t.j. nejde o porovnávanie rovnakých objektov v rôznom čase, použijeme obyčajný t-test na zhodnosť priemeru dvoch skupín, aby sme zistili, či dôvera v EU je rovnaká alebo iná v krajinách eurozóny a v ostatných krajinách.\n",
    "\n",
    "Druhým predpokladom použitia t-testu je okrem normality dát zhoda rozptylov v súbore. Overíme si ju F testom o zhode rozptylov dvoch nezávislých výberov."
   ]
  },
  {
   "cell_type": "code",
   "execution_count": 45,
   "metadata": {},
   "outputs": [],
   "source": [
    "std_euro=data_eu_euro['EU Trust'].std()  # vyberova smerodatna odchylka  https://www.tutorialspoint.com/how-to-perform-an-f-test-in-python\n",
    "std_bez_euro=data_eu_bez_euro['EU Trust'].std() #https://pandas.pydata.org/docs/reference/api/pandas.DataFrame.std.html#pandas.DataFrame.std\n",
    "var_euro=std_euro**2  #vyberovy rozptyl\n",
    "var_bez_euro=std_bez_euro**2\n",
    "F_test=var_euro/var_bez_euro  #F test o  zhodnosti rozptylov\n",
    "n_euro=data_eu_euro['EU Trust'].describe().loc['count']\n",
    "n_bez_euro=data_eu_bez_euro['EU Trust'].describe().loc['count']\n",
    "v_euro=n_euro-1  #stupne volnosti\n",
    "v_bez_euro=n_bez_euro-1\n"
   ]
  },
  {
   "attachments": {},
   "cell_type": "markdown",
   "metadata": {},
   "source": [
    "Teraz musíme nájsť kvantily F rozdelenia pre 5 % hladinu významnosti,obojstranný F test s vyššie uvedenými stupňami voľnosti (v_euro, v_bez_euro)"
   ]
  },
  {
   "cell_type": "code",
   "execution_count": 55,
   "metadata": {},
   "outputs": [
    {
     "data": {
      "text/plain": [
       "'Hodnota testoveho kriteria F testu je 1.5610960580368844 a    vymezení kritického oboru je (0-0.326693531626342) a (4.05375851582983-nekonecno)'"
      ]
     },
     "execution_count": 55,
     "metadata": {},
     "output_type": "execute_result"
    }
   ],
   "source": [
    "critical_values = stats.f.ppf([0.025, 0.975], v_euro, v_bez_euro)\n",
    "critical_values\n",
    "f\"Hodnota testoveho kriteria F testu je {F_test} a    \" \\\n",
    "f\"vymezení kritického oboru je (0-{critical_values[0]}) a ({critical_values[1]}-nekonecno)\""
   ]
  },
  {
   "attachments": {},
   "cell_type": "markdown",
   "metadata": {},
   "source": [
    "Testove kriterium teda spada do oboru prijeti a z toho dovodu nezamietame nulovu hypotezu o zhodnosti rozptylov. \n",
    "Ešte vyskúšame vypočítať p hodnotu tohoto obojstranného testu."
   ]
  },
  {
   "cell_type": "code",
   "execution_count": 65,
   "metadata": {},
   "outputs": [
    {
     "data": {
      "text/plain": [
       "0.2660704582477239"
      ]
     },
     "execution_count": 65,
     "metadata": {},
     "output_type": "execute_result"
    }
   ],
   "source": [
    "p_value_F_horna = 1-stats.f.cdf(F_test, v_euro, v_bez_euro)  #snha o p value\n",
    "p_value_F_horna"
   ]
  },
  {
   "cell_type": "code",
   "execution_count": 63,
   "metadata": {},
   "outputs": [
    {
     "data": {
      "text/plain": [
       "0.26607045824772413"
      ]
     },
     "execution_count": 63,
     "metadata": {},
     "output_type": "execute_result"
    }
   ],
   "source": [
    "p_value_F_dolna= stats.f.cdf((var_bez_euro/var_euro),v_bez_euro, v_euro)\n",
    "p_value_F_dolna"
   ]
  },
  {
   "cell_type": "code",
   "execution_count": 67,
   "metadata": {},
   "outputs": [
    {
     "data": {
      "text/plain": [
       "0.532140916495448"
      ]
     },
     "execution_count": 67,
     "metadata": {},
     "output_type": "execute_result"
    }
   ],
   "source": [
    "p_value_celkova=p_value_F_horna + p_value_F_dolna\n",
    "p_value_celkova  #ale nie som si tymto ista (https://math.stackexchange.com/questions/2725996/finding-the-p-value-of-a-2-sided-f-test)"
   ]
  },
  {
   "attachments": {},
   "cell_type": "markdown",
   "metadata": {},
   "source": [
    "Môžeme pokračovať na t-test o zhodnosti priemeru dvoch výberových súborov."
   ]
  },
  {
   "cell_type": "code",
   "execution_count": 66,
   "metadata": {},
   "outputs": [
    {
     "data": {
      "text/plain": [
       "Ttest_indResult(statistic=-0.33471431258258433, pvalue=0.7406326832748829)"
      ]
     },
     "execution_count": 66,
     "metadata": {},
     "output_type": "execute_result"
    }
   ],
   "source": [
    "t_test_Trust = stats.ttest_ind(data_eu_euro[\"EU Trust\"], data_eu_bez_euro['EU Trust'])\n",
    "t_test_Trust"
   ]
  },
  {
   "attachments": {},
   "cell_type": "markdown",
   "metadata": {},
   "source": [
    "Keďže má t-test nulovú hypotézu, ktorá tvrdí, že oba nezávislé výberové súbory majú rovnakú strednú hodhotu (priemer), na základe p hodnoty nemôžeme zamietnuť túto nulovú hypotézu.\n",
    "Dôvera v EU teda nie je štatisticky významne odlišná v štátoch eurozóny a štátoch, ktoré euro nepoužívajú."
   ]
  }
 ],
 "metadata": {
  "kernelspec": {
   "display_name": "Python 3",
   "language": "python",
   "name": "python3"
  },
  "language_info": {
   "codemirror_mode": {
    "name": "ipython",
    "version": 3
   },
   "file_extension": ".py",
   "mimetype": "text/x-python",
   "name": "python",
   "nbconvert_exporter": "python",
   "pygments_lexer": "ipython3",
   "version": "3.9.10"
  },
  "orig_nbformat": 4
 },
 "nbformat": 4,
 "nbformat_minor": 2
}
